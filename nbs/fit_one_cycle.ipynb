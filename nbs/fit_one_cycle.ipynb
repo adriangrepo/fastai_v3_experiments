{
 "cells": [
  {
   "cell_type": "markdown",
   "metadata": {},
   "source": [
    "# Transform Experiments\n",
    "\n",
    "custom transforms"
   ]
  },
  {
   "cell_type": "code",
   "execution_count": 2,
   "metadata": {
    "ExecuteTime": {
     "end_time": "2019-02-02T06:53:46.956828Z",
     "start_time": "2019-02-02T06:53:46.630657Z"
    }
   },
   "outputs": [],
   "source": [
    "%reload_ext autoreload\n",
    "%autoreload 2\n",
    "%matplotlib inline"
   ]
  },
  {
   "cell_type": "code",
   "execution_count": 3,
   "metadata": {
    "ExecuteTime": {
     "end_time": "2019-02-02T06:53:46.966170Z",
     "start_time": "2019-02-02T06:53:46.958941Z"
    }
   },
   "outputs": [],
   "source": [
    "from PIL import Image as pil_image"
   ]
  },
  {
   "cell_type": "code",
   "execution_count": 4,
   "metadata": {
    "ExecuteTime": {
     "end_time": "2019-02-02T06:53:48.541102Z",
     "start_time": "2019-02-02T06:53:46.967239Z"
    }
   },
   "outputs": [],
   "source": [
    "#pip3 install nvidia-ml-py3\n",
    "import tracemalloc, threading, torch, time, pynvml\n",
    "from fastai.utils.mem import *\n",
    "from fastai.vision import *"
   ]
  },
  {
   "cell_type": "code",
   "execution_count": 5,
   "metadata": {
    "ExecuteTime": {
     "end_time": "2019-02-02T06:53:48.557798Z",
     "start_time": "2019-02-02T06:53:48.543858Z"
    }
   },
   "outputs": [
    {
     "name": "stdout",
     "output_type": "stream",
     "text": [
      "1.0.43.dev0\n"
     ]
    }
   ],
   "source": [
    "import fastai\n",
    "print(fastai.__version__)"
   ]
  },
  {
   "cell_type": "code",
   "execution_count": 6,
   "metadata": {
    "ExecuteTime": {
     "end_time": "2019-02-02T06:53:48.574162Z",
     "start_time": "2019-02-02T06:53:48.559674Z"
    }
   },
   "outputs": [],
   "source": [
    "torch.cuda.set_device(0)\n",
    "device = torch.device(\"cuda:0\" if torch.cuda.is_available() else \"cpu\")"
   ]
  },
  {
   "cell_type": "code",
   "execution_count": 7,
   "metadata": {
    "ExecuteTime": {
     "end_time": "2019-02-02T06:53:51.247245Z",
     "start_time": "2019-02-02T06:53:48.575448Z"
    }
   },
   "outputs": [],
   "source": [
    "#see https://forums.fast.ai/t/gpu-optimizations-central/33944/15\n",
    "#\"memory profiler that taps into each epoch, and can be fine-tuned to each separate stage\"\n",
    "if not torch.cuda.is_available(): raise Exception(\"pytorch is required\")\n",
    "\n",
    "def preload_pytorch():\n",
    "    torch.ones((1, 1)).cuda()\n",
    "    \n",
    "def gpu_mem_get_used_no_cache():\n",
    "    torch.cuda.empty_cache()\n",
    "    return gpu_mem_get().used\n",
    "\n",
    "def gpu_mem_used_get_fast(gpu_handle):\n",
    "    info = pynvml.nvmlDeviceGetMemoryInfo(gpu_handle)\n",
    "    return int(info.used/2**20)\n",
    "\n",
    "preload_pytorch()\n",
    "pynvml.nvmlInit()\n",
    "\n",
    "class PeakMemMetric(LearnerCallback):\n",
    "    _order=-20 # Needs to run before the recorder\n",
    "\n",
    "    def peak_monitor_start(self):\n",
    "        self.peak_monitoring = True"
   ]
  },
  {
   "cell_type": "code",
   "execution_count": 8,
   "metadata": {
    "ExecuteTime": {
     "end_time": "2019-02-02T06:53:51.262178Z",
     "start_time": "2019-02-02T06:53:51.248746Z"
    }
   },
   "outputs": [],
   "source": [
    "path = Path('../data/mnist/mnist_png')"
   ]
  },
  {
   "cell_type": "code",
   "execution_count": 9,
   "metadata": {
    "ExecuteTime": {
     "end_time": "2019-02-02T06:53:51.276625Z",
     "start_time": "2019-02-02T06:53:51.263281Z"
    }
   },
   "outputs": [],
   "source": [
    "np.random.seed(42)"
   ]
  },
  {
   "cell_type": "markdown",
   "metadata": {},
   "source": [
    "### No transforms"
   ]
  },
  {
   "cell_type": "code",
   "execution_count": 10,
   "metadata": {
    "ExecuteTime": {
     "end_time": "2019-02-02T06:53:51.289719Z",
     "start_time": "2019-02-02T06:53:51.277599Z"
    }
   },
   "outputs": [],
   "source": [
    "#no transforms\n",
    "tfms = get_transforms(do_flip=False, \n",
    "                      flip_vert=False, \n",
    "                      max_rotate=0., \n",
    "                      max_zoom=0., \n",
    "                      max_lighting=0., \n",
    "                      max_warp=0., \n",
    "                      p_affine=0., \n",
    "                      p_lighting=0.)\n"
   ]
  },
  {
   "cell_type": "code",
   "execution_count": 11,
   "metadata": {
    "ExecuteTime": {
     "end_time": "2019-02-02T06:53:52.003035Z",
     "start_time": "2019-02-02T06:53:51.290756Z"
    }
   },
   "outputs": [],
   "source": [
    "data = ImageDataBunch.from_folder(path, valid_pct = 0.2,ds_tfms=tfms, size=28)"
   ]
  },
  {
   "cell_type": "code",
   "execution_count": 12,
   "metadata": {
    "ExecuteTime": {
     "end_time": "2019-02-02T06:53:53.082678Z",
     "start_time": "2019-02-02T06:53:52.004547Z"
    }
   },
   "outputs": [
    {
     "data": {
      "image/png": "[encoded data removed]",
      "text/plain": [
       "<Figure size 360x360 with 9 Axes>"
      ]
     },
     "metadata": {
      "needs_background": "light"
     },
     "output_type": "display_data"
    }
   ],
   "source": [
    "data.show_batch(rows=3, figsize=(5,5))"
   ]
  },
  {
   "cell_type": "markdown",
   "metadata": {},
   "source": [
    "### fit"
   ]
  },
  {
   "cell_type": "code",
   "execution_count": 13,
   "metadata": {
    "ExecuteTime": {
     "end_time": "2019-02-02T06:53:53.436272Z",
     "start_time": "2019-02-02T06:53:53.083964Z"
    }
   },
   "outputs": [],
   "source": [
    "learn = create_cnn(data, models.resnet18, metrics=error_rate)"
   ]
  },
  {
   "cell_type": "markdown",
   "metadata": {},
   "source": [
    "Defaults for lr_find:\n",
    "    \n",
    "lr_find(learn:Learner, start_lr:Floats=1e-7, end_lr:Floats=10, num_it:int=100, stop_div:bool=True, **kwargs:Any):\n",
    "\n",
    "NB in lr_find we call Learner.fit()"
   ]
  },
  {
   "cell_type": "code",
   "execution_count": 14,
   "metadata": {
    "ExecuteTime": {
     "end_time": "2019-02-02T06:53:55.608751Z",
     "start_time": "2019-02-02T06:53:53.437705Z"
    }
   },
   "outputs": [
    {
     "name": "stdout",
     "output_type": "stream",
     "text": [
      "LR Finder is complete, type {learner_name}.recorder.plot() to see the graph.\n"
     ]
    },
    {
     "data": {
      "image/png": "[encoded data removed]",
      "text/plain": [
       "<Figure size 432x288 with 1 Axes>"
      ]
     },
     "metadata": {
      "needs_background": "light"
     },
     "output_type": "display_data"
    }
   ],
   "source": [
    "learn.lr_find()\n",
    "learn.recorder.plot(skip_start=10, skip_end=5)\n"
   ]
  },
  {
   "cell_type": "markdown",
   "metadata": {},
   "source": [
    "### fit_one_cycle()\n",
    "\n",
    "*You can put a single number (e.g. 1e-3): Every layer gets the same learning rate. So you're not using discriminative learning rates.*\n",
    "\n",
    "*You can write a slice. So you can write slice with a single number (e.g. slice(1e-3)): The final layers get a learning rate of whatever you wrote down (1e-3), and then all the other layers get the same learning rate which is that divided by 3. So all of the other layers will be 1e-3/3. The last layers will be 1e-3.*\n",
    "\n",
    "*You can write slice with two numbers (e.g. slice(1e-5, 1e-3)). The final layers (these randomly added layers) will still be again 1e-3. The first layers will get 1e-5, and the other layers will get learning rates that are equally spread between those two - so multiplicatively equal. If there were three layers, there would be 1e-5, 1e-4, 1e-3, so equal multiples each time.* (Jeremy Howard, 2019, lesson5)"
   ]
  },
  {
   "cell_type": "markdown",
   "metadata": {},
   "source": [
    "### Defaults\n",
    "\n",
    "In defaults the default lr in fastai is:\n",
    "    \n",
    "    slice(None, 3e-3, None)\n",
    "    \n",
    "This is the lr that is set *if lr_find() has not been called*:\n",
    "\n",
    "    lr: slice(None, 0.003, None)\n",
    "\n",
    "which is then set to (in this case there are 3 layer goups):\n",
    "    \n",
    "    lr = np.array([lr.stop/10]*(len(self.layer_groups)-1) + [lr.stop])\n",
    "    \n",
    "and set for this callback\n",
    "    \n",
    "    OptimWrapper._lr: [0.0003, 0.0003, 0.003]\n",
    "    "
   ]
  },
  {
   "cell_type": "markdown",
   "metadata": {},
   "source": [
    "Default weight decay:\n",
    "\n",
    "    wd = 0.01"
   ]
  },
  {
   "cell_type": "code",
   "execution_count": 15,
   "metadata": {
    "ExecuteTime": {
     "end_time": "2019-02-02T06:54:21.691451Z",
     "start_time": "2019-02-02T06:53:55.610181Z"
    }
   },
   "outputs": [
    {
     "data": {
      "text/html": [
       "Total time: 00:26 <p><table style='width:300px; margin-bottom:10px'>\n",
       "  <tr>\n",
       "    <th>epoch</th>\n",
       "    <th>train_loss</th>\n",
       "    <th>valid_loss</th>\n",
       "    <th>error_rate</th>\n",
       "  </tr>\n",
       "  <tr>\n",
       "    <th>1</th>\n",
       "    <th>0.344278</th>\n",
       "    <th>0.220656</th>\n",
       "    <th>0.069571</th>\n",
       "  </tr>\n",
       "  <tr>\n",
       "    <th>2</th>\n",
       "    <th>0.207821</th>\n",
       "    <th>0.123167</th>\n",
       "    <th>0.038143</th>\n",
       "  </tr>\n",
       "</table>\n"
      ],
      "text/plain": [
       "<IPython.core.display.HTML object>"
      ]
     },
     "metadata": {},
     "output_type": "display_data"
    }
   ],
   "source": [
    "learn.fit(2)"
   ]
  },
  {
   "cell_type": "markdown",
   "metadata": {},
   "source": [
    "### fit one cycle\n",
    "\n",
    "In some parts of the course JH mentions - on initial fit - to use steepest part of curve eg for curve above \n",
    "\n",
    "lr = 3e-3\n",
    "\n",
    "learn.fit_one_cycle(5, slice(lr))\n",
    "\n",
    "See Lesson3 Python3 partial [39:17] https://github.com/hiromis/notes/blob/master/Lesson3.md\n"
   ]
  },
  {
   "cell_type": "markdown",
   "metadata": {},
   "source": [
    "JH: As a rule of thumb, for top learning, use 1e-4 or 3e-4\n",
    "\n",
    "eg in Lesson2 Step 4: Training a model [26:49] (see hiromi's excellent notes here: https://github.com/hiromis/notes/blob/master/Lesson2.md)\n",
    "\n",
    "In example figure below, Jeremy picked 3e-5 as bottom lr and 3e-4 at top learning rate in the slice\n",
    "\n",
    "<pre>\n",
    "learn.fit_one_cycle(2, max_lr=slice(3e-5,3e-4))\n",
    "</pre>\n",
    "\n"
   ]
  },
  {
   "cell_type": "markdown",
   "metadata": {
    "ExecuteTime": {
     "end_time": "2019-02-02T06:41:23.271176Z",
     "start_time": "2019-02-02T06:41:23.155459Z"
    }
   },
   "source": [
    "![title](figures/lesson2_step4_13.png)"
   ]
  },
  {
   "cell_type": "code",
   "execution_count": 22,
   "metadata": {
    "ExecuteTime": {
     "end_time": "2019-02-02T06:56:34.421303Z",
     "start_time": "2019-02-02T06:56:34.145879Z"
    }
   },
   "outputs": [],
   "source": [
    "learn = create_cnn(data, models.resnet18, metrics=error_rate)"
   ]
  },
  {
   "cell_type": "code",
   "execution_count": 17,
   "metadata": {
    "ExecuteTime": {
     "end_time": "2019-02-02T06:54:24.013921Z",
     "start_time": "2019-02-02T06:54:21.963777Z"
    }
   },
   "outputs": [
    {
     "name": "stdout",
     "output_type": "stream",
     "text": [
      "LR Finder is complete, type {learner_name}.recorder.plot() to see the graph.\n"
     ]
    },
    {
     "data": {
      "image/png": "[encoded data removed]",
      "text/plain": [
       "<Figure size 432x288 with 1 Axes>"
      ]
     },
     "metadata": {
      "needs_background": "light"
     },
     "output_type": "display_data"
    }
   ],
   "source": [
    "learn.lr_find()\n",
    "learn.recorder.plot(skip_start=10, skip_end=5)"
   ]
  },
  {
   "cell_type": "markdown",
   "metadata": {},
   "source": [
    "Default parameters for fit_one_cycle:\n",
    "\n",
    "fit_one_cycle(learn:Learner, cyc_len:int, max_lr:Union[Floats,slice]=defaults.lr,\n",
    "                  moms:Tuple[float,float]=(0.95,0.85), div_factor:float=25., pct_start:float=0.3,\n",
    "                  wd:float=None, callbacks:Optional[CallbackList]=None, **kwargs)\n",
    "                  \n",
    "In code below where we have start_lr of 3e-5 and stop_lr of 3e-4,\n",
    "the lr_range is distributed accoss the n layer_grougs.\n",
    "\n",
    "Here we have 3 layer goups, and the lr_range is set to:\n",
    "\n",
    "[3e-05 9.49e-05 3e-04]"
   ]
  },
  {
   "cell_type": "code",
   "execution_count": 23,
   "metadata": {
    "ExecuteTime": {
     "end_time": "2019-02-02T06:57:03.563646Z",
     "start_time": "2019-02-02T06:56:37.354886Z"
    }
   },
   "outputs": [
    {
     "data": {
      "text/html": [
       "Total time: 00:26 <p><table style='width:300px; margin-bottom:10px'>\n",
       "  <tr>\n",
       "    <th>epoch</th>\n",
       "    <th>train_loss</th>\n",
       "    <th>valid_loss</th>\n",
       "    <th>error_rate</th>\n",
       "  </tr>\n",
       "  <tr>\n",
       "    <th>1</th>\n",
       "    <th>0.846745</th>\n",
       "    <th>0.639468</th>\n",
       "    <th>0.199929</th>\n",
       "  </tr>\n",
       "  <tr>\n",
       "    <th>2</th>\n",
       "    <th>0.693512</th>\n",
       "    <th>0.524149</th>\n",
       "    <th>0.164071</th>\n",
       "  </tr>\n",
       "</table>\n"
      ],
      "text/plain": [
       "<IPython.core.display.HTML object>"
      ]
     },
     "metadata": {},
     "output_type": "display_data"
    }
   ],
   "source": [
    "learn.fit_one_cycle(2, max_lr=slice(3e-5,3e-4))"
   ]
  },
  {
   "cell_type": "code",
   "execution_count": 24,
   "metadata": {
    "ExecuteTime": {
     "end_time": "2019-02-02T06:57:03.721298Z",
     "start_time": "2019-02-02T06:57:03.594589Z"
    }
   },
   "outputs": [
    {
     "data": {
      "image/png": "[encoded data removed]",
      "text/plain": [
       "<Figure size 432x288 with 1 Axes>"
      ]
     },
     "metadata": {
      "needs_background": "light"
     },
     "output_type": "display_data"
    }
   ],
   "source": [
    "learn.recorder.plot_losses()"
   ]
  },
  {
   "cell_type": "markdown",
   "metadata": {},
   "source": [
    "In above we see validation loss is lower than training loss:\n",
    "    \n",
    "Either:\n",
    "    \n",
    "    learning rate is too small \n",
    "    \n",
    "    number of epochs is too low\n",
    "    \n",
    "    model is too simple"
   ]
  },
  {
   "cell_type": "code",
   "execution_count": 25,
   "metadata": {
    "ExecuteTime": {
     "end_time": "2019-02-02T06:57:26.456368Z",
     "start_time": "2019-02-02T06:57:26.174023Z"
    }
   },
   "outputs": [],
   "source": [
    "learn = create_cnn(data, models.resnet18, metrics=error_rate)"
   ]
  },
  {
   "cell_type": "code",
   "execution_count": 26,
   "metadata": {
    "ExecuteTime": {
     "end_time": "2019-02-02T06:57:52.957940Z",
     "start_time": "2019-02-02T06:57:26.728013Z"
    }
   },
   "outputs": [
    {
     "data": {
      "text/html": [
       "Total time: 00:26 <p><table style='width:300px; margin-bottom:10px'>\n",
       "  <tr>\n",
       "    <th>epoch</th>\n",
       "    <th>train_loss</th>\n",
       "    <th>valid_loss</th>\n",
       "    <th>error_rate</th>\n",
       "  </tr>\n",
       "  <tr>\n",
       "    <th>1</th>\n",
       "    <th>0.200190</th>\n",
       "    <th>0.095033</th>\n",
       "    <th>0.022500</th>\n",
       "  </tr>\n",
       "  <tr>\n",
       "    <th>2</th>\n",
       "    <th>0.075006</th>\n",
       "    <th>0.044186</th>\n",
       "    <th>0.012857</th>\n",
       "  </tr>\n",
       "</table>\n"
      ],
      "text/plain": [
       "<IPython.core.display.HTML object>"
      ]
     },
     "metadata": {},
     "output_type": "display_data"
    }
   ],
   "source": [
    "learn.fit_one_cycle(2, max_lr=slice(3e-3,3e-2))"
   ]
  },
  {
   "cell_type": "code",
   "execution_count": 27,
   "metadata": {
    "ExecuteTime": {
     "end_time": "2019-02-02T06:57:53.118399Z",
     "start_time": "2019-02-02T06:57:52.989254Z"
    }
   },
   "outputs": [
    {
     "data": {
      "image/png": "[encoded data removed]",
      "text/plain": [
       "<Figure size 432x288 with 1 Axes>"
      ]
     },
     "metadata": {
      "needs_background": "light"
     },
     "output_type": "display_data"
    }
   ],
   "source": [
    "learn.recorder.plot_losses()"
   ]
  },
  {
   "cell_type": "markdown",
   "metadata": {},
   "source": [
    "Better - using higher lr"
   ]
  },
  {
   "cell_type": "markdown",
   "metadata": {},
   "source": [
    "## Unfreeze"
   ]
  },
  {
   "cell_type": "markdown",
   "metadata": {},
   "source": [
    "JH: take whatever did last time and divide it by 5 or 10\n",
    "    \n",
    "So if used 3e-3 for initial fit, then use\n",
    "\n",
    "slice(steepest slope or 10x smaller than bottom , lr/10)"
   ]
  },
  {
   "cell_type": "code",
   "execution_count": 28,
   "metadata": {
    "ExecuteTime": {
     "end_time": "2019-02-02T06:58:04.419242Z",
     "start_time": "2019-02-02T06:58:04.402612Z"
    }
   },
   "outputs": [],
   "source": [
    "learn.unfreeze()\n"
   ]
  },
  {
   "cell_type": "code",
   "execution_count": 31,
   "metadata": {
    "ExecuteTime": {
     "end_time": "2019-02-02T06:59:31.016144Z",
     "start_time": "2019-02-02T06:59:29.211433Z"
    }
   },
   "outputs": [
    {
     "name": "stdout",
     "output_type": "stream",
     "text": [
      "LR Finder is complete, type {learner_name}.recorder.plot() to see the graph.\n"
     ]
    },
    {
     "data": {
      "image/png": "[encoded data removed]",
      "text/plain": [
       "<Figure size 432x288 with 1 Axes>"
      ]
     },
     "metadata": {
      "needs_background": "light"
     },
     "output_type": "display_data"
    }
   ],
   "source": [
    "learn.lr_find()\n",
    "learn.recorder.plot(skip_start=0, skip_end=5)"
   ]
  },
  {
   "cell_type": "code",
   "execution_count": 32,
   "metadata": {
    "ExecuteTime": {
     "end_time": "2019-02-02T07:05:45.510534Z",
     "start_time": "2019-02-02T07:04:42.231265Z"
    }
   },
   "outputs": [
    {
     "data": {
      "text/html": [
       "Total time: 01:03 <p><table style='width:300px; margin-bottom:10px'>\n",
       "  <tr>\n",
       "    <th>epoch</th>\n",
       "    <th>train_loss</th>\n",
       "    <th>valid_loss</th>\n",
       "    <th>error_rate</th>\n",
       "  </tr>\n",
       "  <tr>\n",
       "    <th>1</th>\n",
       "    <th>0.063510</th>\n",
       "    <th>0.041045</th>\n",
       "    <th>0.012643</th>\n",
       "  </tr>\n",
       "  <tr>\n",
       "    <th>2</th>\n",
       "    <th>0.038383</th>\n",
       "    <th>0.037792</th>\n",
       "    <th>0.010929</th>\n",
       "  </tr>\n",
       "  <tr>\n",
       "    <th>3</th>\n",
       "    <th>0.039960</th>\n",
       "    <th>0.033756</th>\n",
       "    <th>0.010500</th>\n",
       "  </tr>\n",
       "  <tr>\n",
       "    <th>4</th>\n",
       "    <th>0.029646</th>\n",
       "    <th>0.033934</th>\n",
       "    <th>0.010643</th>\n",
       "  </tr>\n",
       "</table>\n"
      ],
      "text/plain": [
       "<IPython.core.display.HTML object>"
      ]
     },
     "metadata": {},
     "output_type": "display_data"
    }
   ],
   "source": [
    "learn.fit_one_cycle(4, slice(2e-6, 6e-5))"
   ]
  },
  {
   "cell_type": "code",
   "execution_count": 33,
   "metadata": {
    "ExecuteTime": {
     "end_time": "2019-02-02T07:05:45.728071Z",
     "start_time": "2019-02-02T07:05:45.543479Z"
    }
   },
   "outputs": [
    {
     "data": {
      "image/png": "[encoded data removed]",
      "text/plain": [
       "<Figure size 864x288 with 2 Axes>"
      ]
     },
     "metadata": {
      "needs_background": "light"
     },
     "output_type": "display_data"
    }
   ],
   "source": [
    "learn.recorder.plot_lr(show_moms=True)"
   ]
  },
  {
   "cell_type": "code",
   "execution_count": 34,
   "metadata": {
    "ExecuteTime": {
     "end_time": "2019-02-02T07:06:40.521406Z",
     "start_time": "2019-02-02T07:06:40.378411Z"
    }
   },
   "outputs": [
    {
     "data": {
      "image/png": "[encoded data removed]",
      "text/plain": [
       "<Figure size 432x288 with 1 Axes>"
      ]
     },
     "metadata": {
      "needs_background": "light"
     },
     "output_type": "display_data"
    }
   ],
   "source": [
    "learn.recorder.plot_losses()"
   ]
  },
  {
   "cell_type": "code",
   "execution_count": null,
   "metadata": {},
   "outputs": [],
   "source": []
  }
 ],
 "metadata": {
  "kernelspec": {
   "display_name": "Python 3",
   "language": "python",
   "name": "python3"
  },
  "language_info": {
   "codemirror_mode": {
    "name": "ipython",
    "version": 3
   },
   "file_extension": ".py",
   "mimetype": "text/x-python",
   "name": "python",
   "nbconvert_exporter": "python",
   "pygments_lexer": "ipython3",
   "version": "3.6.6"
  },
  "varInspector": {
   "cols": {
    "lenName": 16,
    "lenType": 16,
    "lenVar": 40
   },
   "kernels_config": {
    "python": {
     "delete_cmd_postfix": "",
     "delete_cmd_prefix": "del ",
     "library": "var_list.py",
     "varRefreshCmd": "print(var_dic_list())"
    },
    "r": {
     "delete_cmd_postfix": ") ",
     "delete_cmd_prefix": "rm(",
     "library": "var_list.r",
     "varRefreshCmd": "cat(var_dic_list()) "
    }
   },
   "types_to_exclude": [
    "module",
    "function",
    "builtin_function_or_method",
    "instance",
    "_Feature"
   ],
   "window_display": false
  }
 },
 "nbformat": 4,
 "nbformat_minor": 2
}
