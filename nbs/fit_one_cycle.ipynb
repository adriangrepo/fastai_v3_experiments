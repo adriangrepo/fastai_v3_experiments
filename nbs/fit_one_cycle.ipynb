{
 "cells": [
  {
   "cell_type": "markdown",
   "metadata": {},
   "source": [
    "# Transform Experiments\n",
    "\n",
    "custom transforms"
   ]
  },
  {
   "cell_type": "code",
   "execution_count": 1,
   "metadata": {
    "ExecuteTime": {
     "end_time": "2019-01-27T16:39:11.430511Z",
     "start_time": "2019-01-27T16:39:11.264243Z"
    }
   },
   "outputs": [],
   "source": [
    "%reload_ext autoreload\n",
    "%autoreload 2\n",
    "%matplotlib inline"
   ]
  },
  {
   "cell_type": "code",
   "execution_count": 2,
   "metadata": {
    "ExecuteTime": {
     "end_time": "2019-01-27T16:39:11.438720Z",
     "start_time": "2019-01-27T16:39:11.432095Z"
    }
   },
   "outputs": [],
   "source": [
    "from PIL import Image as pil_image"
   ]
  },
  {
   "cell_type": "code",
   "execution_count": 3,
   "metadata": {
    "ExecuteTime": {
     "end_time": "2019-01-27T16:39:12.229098Z",
     "start_time": "2019-01-27T16:39:11.439752Z"
    }
   },
   "outputs": [],
   "source": [
    "#pip3 install nvidia-ml-py3\n",
    "import tracemalloc, threading, torch, time, pynvml\n",
    "from fastai.utils.mem import *\n",
    "from fastai.vision import *"
   ]
  },
  {
   "cell_type": "code",
   "execution_count": 4,
   "metadata": {
    "ExecuteTime": {
     "end_time": "2019-01-27T16:39:12.245633Z",
     "start_time": "2019-01-27T16:39:12.231413Z"
    }
   },
   "outputs": [
    {
     "name": "stdout",
     "output_type": "stream",
     "text": [
      "1.0.43.dev0\n"
     ]
    }
   ],
   "source": [
    "import fastai\n",
    "print(fastai.__version__)"
   ]
  },
  {
   "cell_type": "code",
   "execution_count": 5,
   "metadata": {
    "ExecuteTime": {
     "end_time": "2019-01-27T16:39:12.261347Z",
     "start_time": "2019-01-27T16:39:12.247258Z"
    }
   },
   "outputs": [],
   "source": [
    "torch.cuda.set_device(0)\n",
    "device = torch.device(\"cuda:0\" if torch.cuda.is_available() else \"cpu\")"
   ]
  },
  {
   "cell_type": "code",
   "execution_count": 6,
   "metadata": {
    "ExecuteTime": {
     "end_time": "2019-01-27T16:39:14.090312Z",
     "start_time": "2019-01-27T16:39:12.263506Z"
    }
   },
   "outputs": [],
   "source": [
    "#see https://forums.fast.ai/t/gpu-optimizations-central/33944/15\n",
    "#\"memory profiler that taps into each epoch, and can be fine-tuned to each separate stage\"\n",
    "if not torch.cuda.is_available(): raise Exception(\"pytorch is required\")\n",
    "\n",
    "def preload_pytorch():\n",
    "    torch.ones((1, 1)).cuda()\n",
    "    \n",
    "def gpu_mem_get_used_no_cache():\n",
    "    torch.cuda.empty_cache()\n",
    "    return gpu_mem_get().used\n",
    "\n",
    "def gpu_mem_used_get_fast(gpu_handle):\n",
    "    info = pynvml.nvmlDeviceGetMemoryInfo(gpu_handle)\n",
    "    return int(info.used/2**20)\n",
    "\n",
    "preload_pytorch()\n",
    "pynvml.nvmlInit()\n",
    "\n",
    "class PeakMemMetric(LearnerCallback):\n",
    "    _order=-20 # Needs to run before the recorder\n",
    "\n",
    "    def peak_monitor_start(self):\n",
    "        self.peak_monitoring = True"
   ]
  },
  {
   "cell_type": "code",
   "execution_count": 7,
   "metadata": {
    "ExecuteTime": {
     "end_time": "2019-01-27T16:39:14.106055Z",
     "start_time": "2019-01-27T16:39:14.091663Z"
    }
   },
   "outputs": [],
   "source": [
    "path = Path('../data/mnist/mnist_png')"
   ]
  },
  {
   "cell_type": "code",
   "execution_count": 8,
   "metadata": {
    "ExecuteTime": {
     "end_time": "2019-01-27T16:39:14.121008Z",
     "start_time": "2019-01-27T16:39:14.107195Z"
    }
   },
   "outputs": [],
   "source": [
    "np.random.seed(42)"
   ]
  },
  {
   "cell_type": "markdown",
   "metadata": {},
   "source": [
    "### No transforms"
   ]
  },
  {
   "cell_type": "code",
   "execution_count": 9,
   "metadata": {
    "ExecuteTime": {
     "end_time": "2019-01-27T16:39:14.136200Z",
     "start_time": "2019-01-27T16:39:14.122089Z"
    }
   },
   "outputs": [],
   "source": [
    "#no transforms\n",
    "tfms = get_transforms(do_flip=False, \n",
    "                      flip_vert=False, \n",
    "                      max_rotate=0., \n",
    "                      max_zoom=0., \n",
    "                      max_lighting=0., \n",
    "                      max_warp=0., \n",
    "                      p_affine=0., \n",
    "                      p_lighting=0.)\n"
   ]
  },
  {
   "cell_type": "code",
   "execution_count": 10,
   "metadata": {
    "ExecuteTime": {
     "end_time": "2019-01-27T16:39:14.880524Z",
     "start_time": "2019-01-27T16:39:14.137226Z"
    }
   },
   "outputs": [],
   "source": [
    "data = ImageDataBunch.from_folder(path, valid_pct = 0.2,ds_tfms=tfms, size=28)"
   ]
  },
  {
   "cell_type": "code",
   "execution_count": 11,
   "metadata": {
    "ExecuteTime": {
     "end_time": "2019-01-27T16:39:15.811525Z",
     "start_time": "2019-01-27T16:39:14.881767Z"
    }
   },
   "outputs": [
    {
     "data": {
      "image/png": "[encoded data removed]",
      "text/plain": [
       "<Figure size 360x360 with 9 Axes>"
      ]
     },
     "metadata": {
      "needs_background": "light"
     },
     "output_type": "display_data"
    }
   ],
   "source": [
    "data.show_batch(rows=3, figsize=(5,5))"
   ]
  },
  {
   "cell_type": "markdown",
   "metadata": {},
   "source": [
    "### fit"
   ]
  },
  {
   "cell_type": "code",
   "execution_count": 12,
   "metadata": {
    "ExecuteTime": {
     "end_time": "2019-01-27T16:39:16.090432Z",
     "start_time": "2019-01-27T16:39:15.812895Z"
    }
   },
   "outputs": [
    {
     "name": "stdout",
     "output_type": "stream",
     "text": [
      "self._lr: [slice(None, 0.003, None), slice(None, 0.003, None), slice(None, 0.003, None)]\n",
      "self._lr: [slice(None, 0.003, None), slice(None, 0.003, None), slice(None, 0.003, None)]\n"
     ]
    }
   ],
   "source": [
    "learn = create_cnn(data, models.resnet18, metrics=error_rate)"
   ]
  },
  {
   "cell_type": "markdown",
   "metadata": {},
   "source": [
    "Defaults for lr_find:\n",
    "    \n",
    "lr_find(learn:Learner, start_lr:Floats=1e-7, end_lr:Floats=10, num_it:int=100, stop_div:bool=True, **kwargs:Any):\n",
    "\n",
    "NB in lr_find we call Learner.fit()"
   ]
  },
  {
   "cell_type": "code",
   "execution_count": 15,
   "metadata": {},
   "outputs": [
    {
     "name": "stdout",
     "output_type": "stream",
     "text": [
      "LR Finder is complete, type {learner_name}.recorder.plot() to see the graph.\n"
     ]
    },
    {
     "data": {
      "image/png": "[encoded data removed]",
      "text/plain": [
       "<Figure size 432x288 with 1 Axes>"
      ]
     },
     "metadata": {
      "needs_background": "light"
     },
     "output_type": "display_data"
    }
   ],
   "source": [
    "learn.lr_find()\n",
    "learn.recorder.plot(skip_start=10, skip_end=5)\n"
   ]
  },
  {
   "cell_type": "markdown",
   "metadata": {},
   "source": [
    "### Defaults\n",
    "\n",
    "In defaults the default lr in fastai is:\n",
    "    \n",
    "    slice(None, 3e-3, None)\n",
    "    \n",
    "This is the lr that is set *if lr_find() has not been called*:\n",
    "\n",
    "    lr: slice(None, 0.003, None)\n",
    "\n",
    "which is then set to (in this case there are 3 layer goups):\n",
    "    \n",
    "    lr = np.array([lr.stop/10]*(len(self.layer_groups)-1) + [lr.stop])\n",
    "    \n",
    "and set for this callback\n",
    "    \n",
    "    OptimWrapper._lr: [0.0003, 0.0003, 0.003]\n",
    "    "
   ]
  },
  {
   "cell_type": "markdown",
   "metadata": {},
   "source": [
    "Default weight decay:\n",
    "\n",
    "    wd = 0.01"
   ]
  },
  {
   "cell_type": "code",
   "execution_count": 13,
   "metadata": {
    "ExecuteTime": {
     "end_time": "2019-01-27T16:40:20.102836Z",
     "start_time": "2019-01-27T16:39:54.472117Z"
    }
   },
   "outputs": [
    {
     "name": "stdout",
     "output_type": "stream",
     "text": [
      "lr: slice(None, 0.003, None), type: <class 'slice'>, defaults.lr: slice(None, 0.003, None)\n",
      "self._lr: [0.00030000000000000003, 0.00030000000000000003, 0.003]\n"
     ]
    },
    {
     "data": {
      "text/html": [
       "Total time: 00:25 <p><table style='width:300px; margin-bottom:10px'>\n",
       "  <tr>\n",
       "    <th>epoch</th>\n",
       "    <th>train_loss</th>\n",
       "    <th>valid_loss</th>\n",
       "    <th>error_rate</th>\n",
       "  </tr>\n",
       "  <tr>\n",
       "    <th>1</th>\n",
       "    <th>0.344157</th>\n",
       "    <th>0.221896</th>\n",
       "    <th>0.069500</th>\n",
       "  </tr>\n",
       "  <tr>\n",
       "    <th>2</th>\n",
       "    <th>0.200844</th>\n",
       "    <th>0.126944</th>\n",
       "    <th>0.038071</th>\n",
       "  </tr>\n",
       "</table>\n"
      ],
      "text/plain": [
       "<IPython.core.display.HTML object>"
      ]
     },
     "metadata": {},
     "output_type": "display_data"
    }
   ],
   "source": [
    "learn.fit(2)"
   ]
  },
  {
   "cell_type": "markdown",
   "metadata": {},
   "source": [
    "### fit one cycle"
   ]
  },
  {
   "cell_type": "markdown",
   "metadata": {},
   "source": [
    "JH: As a rule of thumb, for top learning, use 1e-4 or 3e-4"
   ]
  },
  {
   "cell_type": "code",
   "execution_count": 17,
   "metadata": {},
   "outputs": [],
   "source": [
    "learn = create_cnn(data, models.resnet18, metrics=error_rate)"
   ]
  },
  {
   "cell_type": "code",
   "execution_count": 18,
   "metadata": {},
   "outputs": [
    {
     "name": "stdout",
     "output_type": "stream",
     "text": [
      "LR Finder is complete, type {learner_name}.recorder.plot() to see the graph.\n"
     ]
    },
    {
     "data": {
      "image/png": "[encoded data removed]",
      "text/plain": [
       "<Figure size 432x288 with 1 Axes>"
      ]
     },
     "metadata": {
      "needs_background": "light"
     },
     "output_type": "display_data"
    }
   ],
   "source": [
    "learn.lr_find()\n",
    "learn.recorder.plot(skip_start=10, skip_end=5)"
   ]
  },
  {
   "cell_type": "markdown",
   "metadata": {},
   "source": [
    "Default parameters for fit_one_cycle:\n",
    "\n",
    "fit_one_cycle(learn:Learner, cyc_len:int, max_lr:Union[Floats,slice]=defaults.lr,\n",
    "                  moms:Tuple[float,float]=(0.95,0.85), div_factor:float=25., pct_start:float=0.3,\n",
    "                  wd:float=None, callbacks:Optional[CallbackList]=None, **kwargs)\n",
    "                  \n",
    "In code below where we have start_lr of 3e-5 and stop_lr of 3e-4,\n",
    "the lr_range is distributed accoss the n layer_grougs.\n",
    "\n",
    "Here we have 3 layer goups, and the lr_range is set to:\n",
    "\n",
    "[3e-05 9.49e-05 3e-04]"
   ]
  },
  {
   "cell_type": "code",
   "execution_count": 19,
   "metadata": {},
   "outputs": [
    {
     "data": {
      "text/html": [
       "Total time: 00:26 <p><table style='width:300px; margin-bottom:10px'>\n",
       "  <tr>\n",
       "    <th>epoch</th>\n",
       "    <th>train_loss</th>\n",
       "    <th>valid_loss</th>\n",
       "    <th>error_rate</th>\n",
       "  </tr>\n",
       "  <tr>\n",
       "    <th>1</th>\n",
       "    <th>0.866574</th>\n",
       "    <th>0.639191</th>\n",
       "    <th>0.205143</th>\n",
       "  </tr>\n",
       "  <tr>\n",
       "    <th>2</th>\n",
       "    <th>0.695715</th>\n",
       "    <th>0.527216</th>\n",
       "    <th>0.167429</th>\n",
       "  </tr>\n",
       "</table>\n"
      ],
      "text/plain": [
       "<IPython.core.display.HTML object>"
      ]
     },
     "metadata": {},
     "output_type": "display_data"
    }
   ],
   "source": [
    "learn.fit_one_cycle(2, max_lr=slice(3e-5,3e-4))"
   ]
  },
  {
   "cell_type": "code",
   "execution_count": 14,
   "metadata": {
    "ExecuteTime": {
     "end_time": "2019-01-27T17:15:10.272650Z",
     "start_time": "2019-01-27T17:15:10.134163Z"
    }
   },
   "outputs": [
    {
     "data": {
      "image/png": "[encoded data removed]",
      "text/plain": [
       "<Figure size 432x288 with 1 Axes>"
      ]
     },
     "metadata": {
      "needs_background": "light"
     },
     "output_type": "display_data"
    }
   ],
   "source": [
    "learn.recorder.plot_losses()"
   ]
  },
  {
   "cell_type": "markdown",
   "metadata": {},
   "source": [
    "In above we see validation loss is lower than training loss:\n",
    "    \n",
    "Either:\n",
    "    \n",
    "    learning rate is too small \n",
    "    \n",
    "    number of epochs is too low\n",
    "    \n",
    "    model is too simple"
   ]
  },
  {
   "cell_type": "markdown",
   "metadata": {},
   "source": [
    "## Unfreeze"
   ]
  },
  {
   "cell_type": "markdown",
   "metadata": {},
   "source": [
    "JH: take whatever did last time and divide it by 5 or 10\n",
    "    \n",
    "So if used 3e-3 for initial fit, then use\n",
    "\n",
    "slice(steepest slope or 10x smaller than bottom , lr/10)"
   ]
  },
  {
   "cell_type": "code",
   "execution_count": null,
   "metadata": {},
   "outputs": [],
   "source": [
    "learn.unfreeze()\n",
    "learn.fit_one_cycle(4, slice(xxx, 3e-4))"
   ]
  }
 ],
 "metadata": {
  "kernelspec": {
   "display_name": "Python 3",
   "language": "python",
   "name": "python3"
  },
  "language_info": {
   "codemirror_mode": {
    "name": "ipython",
    "version": 3
   },
   "file_extension": ".py",
   "mimetype": "text/x-python",
   "name": "python",
   "nbconvert_exporter": "python",
   "pygments_lexer": "ipython3",
   "version": "3.6.6"
  },
  "varInspector": {
   "cols": {
    "lenName": 16,
    "lenType": 16,
    "lenVar": 40
   },
   "kernels_config": {
    "python": {
     "delete_cmd_postfix": "",
     "delete_cmd_prefix": "del ",
     "library": "var_list.py",
     "varRefreshCmd": "print(var_dic_list())"
    },
    "r": {
     "delete_cmd_postfix": ") ",
     "delete_cmd_prefix": "rm(",
     "library": "var_list.r",
     "varRefreshCmd": "cat(var_dic_list()) "
    }
   },
   "types_to_exclude": [
    "module",
    "function",
    "builtin_function_or_method",
    "instance",
    "_Feature"
   ],
   "window_display": false
  }
 },
 "nbformat": 4,
 "nbformat_minor": 2
}
